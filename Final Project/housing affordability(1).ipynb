{
 "cells": [
  {
   "cell_type": "code",
   "execution_count": 1,
   "metadata": {},
   "outputs": [
    {
     "name": "stdout",
     "output_type": "stream",
     "text": [
      "Requirement already satisfied: pandas in ./lib/python3.6/site-packages (0.22.0)\r\n",
      "Requirement already satisfied: python-dateutil>=2 in ./lib/python3.6/site-packages (from pandas) (2.7.2)\r\n",
      "Requirement already satisfied: numpy>=1.9.0 in ./lib/python3.6/site-packages (from pandas) (1.14.2)\r\n",
      "Requirement already satisfied: pytz>=2011k in ./lib/python3.6/site-packages (from pandas) (2018.4)\r\n",
      "Requirement already satisfied: six>=1.5 in ./lib/python3.6/site-packages (from python-dateutil>=2->pandas) (1.11.0)\r\n"
     ]
    }
   ],
   "source": [
    "!pip3 install pandas"
   ]
  },
  {
   "cell_type": "code",
   "execution_count": 3,
   "metadata": {},
   "outputs": [],
   "source": [
    "import pandas as pd"
   ]
  },
  {
   "cell_type": "code",
   "execution_count": 4,
   "metadata": {},
   "outputs": [
    {
     "data": {
      "text/html": [
       "<div>\n",
       "<style scoped>\n",
       "    .dataframe tbody tr th:only-of-type {\n",
       "        vertical-align: middle;\n",
       "    }\n",
       "\n",
       "    .dataframe tbody tr th {\n",
       "        vertical-align: top;\n",
       "    }\n",
       "\n",
       "    .dataframe thead th {\n",
       "        text-align: right;\n",
       "    }\n",
       "</style>\n",
       "<table border=\"1\" class=\"dataframe\">\n",
       "  <thead>\n",
       "    <tr style=\"text-align: right;\">\n",
       "      <th></th>\n",
       "      <th>Year</th>\n",
       "      <th>Housing affordability</th>\n",
       "    </tr>\n",
       "  </thead>\n",
       "  <tbody>\n",
       "    <tr>\n",
       "      <th>0</th>\n",
       "      <td>2013</td>\n",
       "      <td>14.9</td>\n",
       "    </tr>\n",
       "    <tr>\n",
       "      <th>1</th>\n",
       "      <td>2014</td>\n",
       "      <td>17.0</td>\n",
       "    </tr>\n",
       "    <tr>\n",
       "      <th>2</th>\n",
       "      <td>2015</td>\n",
       "      <td>19.0</td>\n",
       "    </tr>\n",
       "    <tr>\n",
       "      <th>3</th>\n",
       "      <td>2016</td>\n",
       "      <td>18.1</td>\n",
       "    </tr>\n",
       "    <tr>\n",
       "      <th>4</th>\n",
       "      <td>2017</td>\n",
       "      <td>19.4</td>\n",
       "    </tr>\n",
       "  </tbody>\n",
       "</table>\n",
       "</div>"
      ],
      "text/plain": [
       "   Year  Housing affordability\n",
       "0  2013                   14.9\n",
       "1  2014                   17.0\n",
       "2  2015                   19.0\n",
       "3  2016                   18.1\n",
       "4  2017                   19.4"
      ]
     },
     "execution_count": 4,
     "metadata": {},
     "output_type": "execute_result"
    }
   ],
   "source": [
    "pd.read_csv('HK housing affordability.csv')"
   ]
  },
  {
   "cell_type": "code",
   "execution_count": 5,
   "metadata": {},
   "outputs": [
    {
     "name": "stdout",
     "output_type": "stream",
     "text": [
      "Requirement already satisfied: matplotlib in ./lib/python3.6/site-packages (2.2.2)\r\n",
      "Requirement already satisfied: pyparsing!=2.0.4,!=2.1.2,!=2.1.6,>=2.0.1 in ./lib/python3.6/site-packages (from matplotlib) (2.2.0)\r\n",
      "Requirement already satisfied: kiwisolver>=1.0.1 in ./lib/python3.6/site-packages (from matplotlib) (1.0.1)\r\n",
      "Requirement already satisfied: python-dateutil>=2.1 in ./lib/python3.6/site-packages (from matplotlib) (2.7.2)\r\n",
      "Requirement already satisfied: six>=1.10 in ./lib/python3.6/site-packages (from matplotlib) (1.11.0)\r\n",
      "Requirement already satisfied: numpy>=1.7.1 in ./lib/python3.6/site-packages (from matplotlib) (1.14.2)\r\n",
      "Requirement already satisfied: cycler>=0.10 in ./lib/python3.6/site-packages (from matplotlib) (0.10.0)\r\n",
      "Requirement already satisfied: pytz in ./lib/python3.6/site-packages (from matplotlib) (2018.4)\r\n",
      "Requirement already satisfied: setuptools in ./lib/python3.6/site-packages (from kiwisolver>=1.0.1->matplotlib) (28.8.0)\r\n"
     ]
    }
   ],
   "source": [
    "!pip3 install matplotlib"
   ]
  },
  {
   "cell_type": "code",
   "execution_count": 7,
   "metadata": {},
   "outputs": [
    {
     "name": "stdout",
     "output_type": "stream",
     "text": [
      "Requirement already satisfied: seaborn in ./lib/python3.6/site-packages (0.8.1)\r\n"
     ]
    }
   ],
   "source": [
    "!pip3 install seaborn"
   ]
  },
  {
   "cell_type": "code",
   "execution_count": 8,
   "metadata": {},
   "outputs": [
    {
     "name": "stdout",
     "output_type": "stream",
     "text": [
      "Requirement already satisfied: plotly in ./lib/python3.6/site-packages (2.5.1)\n",
      "Requirement already satisfied: decorator>=4.0.6 in ./lib/python3.6/site-packages (from plotly) (4.3.0)\n",
      "Requirement already satisfied: nbformat>=4.2 in ./lib/python3.6/site-packages (from plotly) (4.4.0)\n",
      "Requirement already satisfied: pytz in ./lib/python3.6/site-packages (from plotly) (2018.4)\n",
      "Requirement already satisfied: requests in ./lib/python3.6/site-packages (from plotly) (2.18.4)\n",
      "Requirement already satisfied: six in ./lib/python3.6/site-packages (from plotly) (1.11.0)\n",
      "Requirement already satisfied: traitlets>=4.1 in ./lib/python3.6/site-packages (from nbformat>=4.2->plotly) (4.3.2)\n",
      "Requirement already satisfied: jsonschema!=2.5.0,>=2.4 in ./lib/python3.6/site-packages (from nbformat>=4.2->plotly) (2.6.0)\n",
      "Requirement already satisfied: jupyter-core in ./lib/python3.6/site-packages (from nbformat>=4.2->plotly) (4.4.0)\n",
      "Requirement already satisfied: ipython-genutils in ./lib/python3.6/site-packages (from nbformat>=4.2->plotly) (0.2.0)\n",
      "Requirement already satisfied: urllib3<1.23,>=1.21.1 in ./lib/python3.6/site-packages (from requests->plotly) (1.22)\n",
      "Requirement already satisfied: certifi>=2017.4.17 in ./lib/python3.6/site-packages (from requests->plotly) (2018.4.16)\n",
      "Requirement already satisfied: chardet<3.1.0,>=3.0.2 in ./lib/python3.6/site-packages (from requests->plotly) (3.0.4)\n",
      "Requirement already satisfied: idna<2.7,>=2.5 in ./lib/python3.6/site-packages (from requests->plotly) (2.6)\n"
     ]
    }
   ],
   "source": [
    "!pip3 install plotly"
   ]
  },
  {
   "cell_type": "code",
   "execution_count": 9,
   "metadata": {},
   "outputs": [],
   "source": [
    "import matplotlib.pyplot as plt\n",
    "import plotly\n",
    "import seaborn"
   ]
  },
  {
   "cell_type": "code",
   "execution_count": 10,
   "metadata": {},
   "outputs": [],
   "source": [
    "index = open('HK housing affordability.csv')"
   ]
  },
  {
   "cell_type": "code",
   "execution_count": 11,
   "metadata": {},
   "outputs": [],
   "source": [
    "data = pd.read_csv(index)"
   ]
  },
  {
   "cell_type": "code",
   "execution_count": 12,
   "metadata": {},
   "outputs": [
    {
     "data": {
      "text/html": [
       "<div>\n",
       "<style scoped>\n",
       "    .dataframe tbody tr th:only-of-type {\n",
       "        vertical-align: middle;\n",
       "    }\n",
       "\n",
       "    .dataframe tbody tr th {\n",
       "        vertical-align: top;\n",
       "    }\n",
       "\n",
       "    .dataframe thead th {\n",
       "        text-align: right;\n",
       "    }\n",
       "</style>\n",
       "<table border=\"1\" class=\"dataframe\">\n",
       "  <thead>\n",
       "    <tr style=\"text-align: right;\">\n",
       "      <th></th>\n",
       "      <th>Year</th>\n",
       "      <th>Housing affordability</th>\n",
       "    </tr>\n",
       "  </thead>\n",
       "  <tbody>\n",
       "    <tr>\n",
       "      <th>0</th>\n",
       "      <td>2013</td>\n",
       "      <td>14.9</td>\n",
       "    </tr>\n",
       "    <tr>\n",
       "      <th>1</th>\n",
       "      <td>2014</td>\n",
       "      <td>17.0</td>\n",
       "    </tr>\n",
       "    <tr>\n",
       "      <th>2</th>\n",
       "      <td>2015</td>\n",
       "      <td>19.0</td>\n",
       "    </tr>\n",
       "    <tr>\n",
       "      <th>3</th>\n",
       "      <td>2016</td>\n",
       "      <td>18.1</td>\n",
       "    </tr>\n",
       "    <tr>\n",
       "      <th>4</th>\n",
       "      <td>2017</td>\n",
       "      <td>19.4</td>\n",
       "    </tr>\n",
       "  </tbody>\n",
       "</table>\n",
       "</div>"
      ],
      "text/plain": [
       "   Year  Housing affordability\n",
       "0  2013                   14.9\n",
       "1  2014                   17.0\n",
       "2  2015                   19.0\n",
       "3  2016                   18.1\n",
       "4  2017                   19.4"
      ]
     },
     "execution_count": 12,
     "metadata": {},
     "output_type": "execute_result"
    }
   ],
   "source": [
    "data"
   ]
  },
  {
   "cell_type": "code",
   "execution_count": 13,
   "metadata": {},
   "outputs": [],
   "source": [
    "date = data['Year']"
   ]
  },
  {
   "cell_type": "code",
   "execution_count": 14,
   "metadata": {},
   "outputs": [
    {
     "data": {
      "text/plain": [
       "0    2013\n",
       "1    2014\n",
       "2    2015\n",
       "3    2016\n",
       "4    2017\n",
       "Name: Year, dtype: int64"
      ]
     },
     "execution_count": 14,
     "metadata": {},
     "output_type": "execute_result"
    }
   ],
   "source": [
    "date"
   ]
  },
  {
   "cell_type": "code",
   "execution_count": 15,
   "metadata": {},
   "outputs": [],
   "source": [
    "index = data['Housing affordability']"
   ]
  },
  {
   "cell_type": "code",
   "execution_count": 16,
   "metadata": {},
   "outputs": [
    {
     "data": {
      "text/plain": [
       "0    14.9\n",
       "1    17.0\n",
       "2    19.0\n",
       "3    18.1\n",
       "4    19.4\n",
       "Name: Housing affordability, dtype: float64"
      ]
     },
     "execution_count": 16,
     "metadata": {},
     "output_type": "execute_result"
    }
   ],
   "source": [
    "index"
   ]
  },
  {
   "cell_type": "code",
   "execution_count": 38,
   "metadata": {},
   "outputs": [
    {
     "data": {
      "text/plain": [
       "<Figure size 1080x504 with 0 Axes>"
      ]
     },
     "metadata": {},
     "output_type": "display_data"
    }
   ],
   "source": [
    "fig = plt.figure(figsize=(15,7))"
   ]
  },
  {
   "cell_type": "code",
   "execution_count": 150,
   "metadata": {},
   "outputs": [],
   "source": [
    "import numpy as np"
   ]
  },
  {
   "cell_type": "code",
   "execution_count": 152,
   "metadata": {},
   "outputs": [
    {
     "data": {
      "text/plain": [
       "Text(0.5,1,'Housing Affordability')"
      ]
     },
     "execution_count": 152,
     "metadata": {},
     "output_type": "execute_result"
    },
    {
     "data": {
      "image/png": "[encoded data removed]",
      "text/plain": [
       "<Figure size 432x288 with 1 Axes>"
      ]
     },
     "metadata": {},
     "output_type": "display_data"
    }
   ],
   "source": [
    "plt.plot(date,\n",
    "         index,\n",
    "         linestyle = '-',\n",
    "         linewidth = 1,\n",
    "         color = 'brown',\n",
    "         marker = '*',\n",
    "         markersize = 6,\n",
    "         label = 'price index'\n",
    "        )\n",
    "\n",
    "plt.ylim(13,22)\n",
    "plt.xlim(2012.5,2017.5,5)\n",
    "\n",
    "plt.xlabel('Year')\n",
    "plt.ylabel('Housing affordability')\n",
    "plt.title('Housing Affordability')\n"
   ]
  },
  {
   "cell_type": "code",
   "execution_count": 149,
   "metadata": {},
   "outputs": [
    {
     "data": {
      "text/plain": [
       "Text(2016.8,20.1,'19.4')"
      ]
     },
     "execution_count": 149,
     "metadata": {},
     "output_type": "execute_result"
    },
    {
     "data": {
      "image/png": "[encoded data removed]",
      "text/plain": [
       "<Figure size 432x288 with 1 Axes>"
      ]
     },
     "metadata": {},
     "output_type": "display_data"
    }
   ],
   "source": [
    "plt.plot(date,\n",
    "         index,\n",
    "         linestyle = '-',\n",
    "         linewidth = 1,\n",
    "         color = 'brown',\n",
    "         marker = '*',\n",
    "         markersize = 6,\n",
    "         label = 'price index'\n",
    "        )\n",
    "\n",
    "plt.ylim(13,22)\n",
    "plt.xlim(2012.5,2017.5,5)\n",
    "\n",
    "plt.xlabel('Year')\n",
    "plt.ylabel('Housing affordability')\n",
    "plt.title('Housing Affordability')\n",
    "\n",
    "plt.annotate('14.9', xy=(2013, 14.9), xytext=(2012.8, 15.6),\n",
    "            arrowprops=dict(facecolor='k', width=0.5),)\n",
    "plt.annotate('17', xy=(2014, 17.0), xytext=(2013.9, 17.7),\n",
    "            arrowprops=dict(facecolor='k', width=0.5),)\n",
    "plt.annotate('19', xy=(2015, 19.0), xytext=(2014.9, 19.7),\n",
    "            arrowprops=dict(facecolor='k', width=0.5),)\n",
    "plt.annotate('18.1', xy=(2016, 18.1), xytext=(2015.8, 18.8),\n",
    "            arrowprops=dict(facecolor='k', width=0.5),)\n",
    "plt.annotate('19.4', xy=(2017, 19.4), xytext=(2016.8, 20.1),\n",
    "            arrowprops=dict(facecolor='k', width=0.5),)"
   ]
  },
  {
   "cell_type": "code",
   "execution_count": null,
   "metadata": {},
   "outputs": [],
   "source": []
  }
 ],
 "metadata": {
  "kernelspec": {
   "display_name": "Python 3",
   "language": "python",
   "name": "python3"
  },
  "language_info": {
   "codemirror_mode": {
    "name": "ipython",
    "version": 3
   },
   "file_extension": ".py",
   "mimetype": "text/x-python",
   "name": "python",
   "nbconvert_exporter": "python",
   "pygments_lexer": "ipython3",
   "version": "3.6.2"
  }
 },
 "nbformat": 4,
 "nbformat_minor": 2
}
