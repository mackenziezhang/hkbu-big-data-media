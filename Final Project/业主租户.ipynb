{
 "cells": [
  {
   "cell_type": "code",
   "execution_count": 11,
   "metadata": {},
   "outputs": [],
   "source": [
    "from pyecharts import Polar\n",
    "\n",
    "radius = ['2008','2009','2010','2011','2012','2013','2014','2015','2016','2017']\n",
    "polar = Polar()\n",
    "polar.add(\"Owners\", [4889.3,4919.2,4930.9,4988.9,4959.1,4929.3,4931.8,4947.2,5010.2,4995.7], radius_data=radius,\n",
    "          type='barRadius', is_stack=True)\n",
    "polar.add(\"Tenants\", [3843.9,3906.3,4026.9,4075.4,4186.5,4307.3,4389.4,4533.1,4585.0,4723.5], radius_data=radius,\n",
    "          type='barRadius', is_stack=True)\n",
    "polar.add(\"Accommodation provided by employers\", [186,189.3,180.8,161.1,175.5,177,177.2,182,178,170.7], radius_data=radius,\n",
    "          type='barRadius', is_stack=True)\n",
    "polar.add(\"Others\", [196.4,183.1,165.3,199.2,211.1,225.4,237.6,226.2,227,241.9], radius_data=radius,\n",
    "          type='barRadius', is_stack=True)\n",
    "polar.render('polar.html')"
   ]
  },
  {
   "cell_type": "code",
   "execution_count": null,
   "metadata": {},
   "outputs": [],
   "source": []
  }
 ],
 "metadata": {
  "kernelspec": {
   "display_name": "Python 3",
   "language": "python",
   "name": "python3"
  },
  "language_info": {
   "codemirror_mode": {
    "name": "ipython",
    "version": 3
   },
   "file_extension": ".py",
   "mimetype": "text/x-python",
   "name": "python",
   "nbconvert_exporter": "python",
   "pygments_lexer": "ipython3",
   "version": "3.6.2"
  }
 },
 "nbformat": 4,
 "nbformat_minor": 2
}
