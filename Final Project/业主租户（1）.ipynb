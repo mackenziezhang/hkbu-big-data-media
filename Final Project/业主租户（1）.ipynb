{
 "cells": [
  {
   "cell_type": "code",
   "execution_count": 1,
   "metadata": {},
   "outputs": [
    {
     "ename": "ModuleNotFoundError",
     "evalue": "No module named 'pyecharts'",
     "output_type": "error",
     "traceback": [
      "\u001b[0;31m---------------------------------------------------------------------------\u001b[0m",
      "\u001b[0;31mModuleNotFoundError\u001b[0m                       Traceback (most recent call last)",
      "\u001b[0;32m<ipython-input-1-c0b57ac66420>\u001b[0m in \u001b[0;36m<module>\u001b[0;34m()\u001b[0m\n\u001b[0;32m----> 1\u001b[0;31m \u001b[0;32mfrom\u001b[0m \u001b[0mpyecharts\u001b[0m \u001b[0;32mimport\u001b[0m \u001b[0mPolar\u001b[0m\u001b[0;34m\u001b[0m\u001b[0m\n\u001b[0m\u001b[1;32m      2\u001b[0m \u001b[0;34m\u001b[0m\u001b[0m\n\u001b[1;32m      3\u001b[0m \u001b[0mradius\u001b[0m \u001b[0;34m=\u001b[0m \u001b[0;34m[\u001b[0m\u001b[0;34m'2008'\u001b[0m\u001b[0;34m,\u001b[0m\u001b[0;34m'2009'\u001b[0m\u001b[0;34m,\u001b[0m\u001b[0;34m'2010'\u001b[0m\u001b[0;34m,\u001b[0m\u001b[0;34m'2011'\u001b[0m\u001b[0;34m,\u001b[0m\u001b[0;34m'2012'\u001b[0m\u001b[0;34m,\u001b[0m\u001b[0;34m'2013'\u001b[0m\u001b[0;34m,\u001b[0m\u001b[0;34m'2014'\u001b[0m\u001b[0;34m,\u001b[0m\u001b[0;34m'2015'\u001b[0m\u001b[0;34m,\u001b[0m\u001b[0;34m'2016'\u001b[0m\u001b[0;34m,\u001b[0m\u001b[0;34m'2017'\u001b[0m\u001b[0;34m]\u001b[0m\u001b[0;34m\u001b[0m\u001b[0m\n\u001b[1;32m      4\u001b[0m \u001b[0mpolar\u001b[0m \u001b[0;34m=\u001b[0m \u001b[0mPolar\u001b[0m\u001b[0;34m(\u001b[0m\u001b[0;34m)\u001b[0m\u001b[0;34m\u001b[0m\u001b[0m\n\u001b[1;32m      5\u001b[0m polar.add(\"Owners\", [1223.1,1227.7,1232.7,1254.5,1240.0,1232.6,1231.2,1246.1,1249.7,1258.1], radius_data=radius,\n",
      "\u001b[0;31mModuleNotFoundError\u001b[0m: No module named 'pyecharts'"
     ]
    }
   ],
   "source": [
    "from pyecharts import Polar\n",
    "\n",
    "radius = ['2008','2009','2010','2011','2012','2013','2014','2015','2016','2017']\n",
    "polar = Polar()\n",
    "polar.add(\"Owners\", [1223.1,1227.7,1232.7,1254.5,1240.0,1232.6,1231.2,1246.1,1249.7,1258.1], radius_data=radius,\n",
    "          type='barRadius', is_stack=True)\n",
    "polar.add(\"Tenants\", [970.2,993.0,1012.9,1017.8,1049.3,1084.9,1104.9,1137.9,1154.3,1187.3], radius_data=radius,\n",
    "          type='barRadius', is_stack=True)\n",
    "polar.add(\"Accommodation provided by employers\", [45.2,41.2,44.6,41.3,42.3,48.8,47.4,45.4,43.8,39.7], radius_data=radius,\n",
    "          type='barRadius', is_stack=True)\n",
    "polar.add(\"Others\", [47.4,47.7,42.8,49.1,56.1,54.6,58.2,55.4,59.0,55.4], radius_data=radius,\n",
    "          type='barRadius', is_stack=True)\n",
    "polar.render('polar.html')"
   ]
  },
  {
   "cell_type": "code",
   "execution_count": null,
   "metadata": {},
   "outputs": [],
   "source": []
  }
 ],
 "metadata": {
  "kernelspec": {
   "display_name": "Python 3",
   "language": "python",
   "name": "python3"
  },
  "language_info": {
   "codemirror_mode": {
    "name": "ipython",
    "version": 3
   },
   "file_extension": ".py",
   "mimetype": "text/x-python",
   "name": "python",
   "nbconvert_exporter": "python",
   "pygments_lexer": "ipython3",
   "version": "3.6.4"
  }
 },
 "nbformat": 4,
 "nbformat_minor": 2
}
