{
 "cells": [
  {
   "cell_type": "code",
   "execution_count": 16,
   "metadata": {},
   "outputs": [],
   "source": [
    "from pyecharts import Line, Bar, Overlap"
   ]
  },
  {
   "cell_type": "code",
   "execution_count": 29,
   "metadata": {},
   "outputs": [],
   "source": [
    "attr = ['2008','2009','2010','2011','2012','2013','2014','2015','2016','2017']\n",
    "\n",
    "bar = Bar(\"Hong Kong Land Sale 2008-2017\",title_text_size = 12, width = 800, height = 800)\n",
    "bar.add(\"Hong Kong Island\",attr,[0,0,23312,35028,41039,208,11606.4,0,25300,11761],is_stack=True,legend_top = 'bottom')\n",
    "bar.add(\"Kowloon\",attr,[0,0,43281,6592.7,271.30,48147,39156,31043,92652,45869],is_stack=True,legend_top = 'bottom')\n",
    "bar.add(\"New Territory\",attr,[191.4,42155.8,23760,82537,135248.5,394672.2,110230.30,149132,222549,27165.70],is_stack=True,legend_top = 'bottom')\n",
    "\n",
    "\n",
    "line = Line()\n",
    "line.add(\"The whole price-Hong Kong Island\", attr, [0,0,10400,23027,17116,139.9,3374.679,0,2811,16855.78], yaxis_formatter =\"million\",yaxis_label_textsize = 10,is_stack=True,legend_top = 'bottom')\n",
    "line.add(\"The whole price-Kowloon\", attr, [0,0,23595,3311.3,193.75,20056.88,13875.22,9409.80,45468.32,37488.20], yaxis_formatter=\"million\",yaxis_label_textsize = 10,is_stack=True,legend_top = 'bottom')\n",
    "line.add(\"The whole price-New Territory\", attr, [16.5,10461,5159,9464,10234.9,45572.39,10438.40,22636.93,23932.64,5216.19], yaxis_formatter=\"million\",yaxis_label_textsize = 10,is_stack=True,legend_top = 'bottom')\n",
    "\n",
    "overlap = Overlap()\n",
    "overlap.add(bar)\n",
    "overlap.add(line, yaxis_index=1, is_add_yaxis=True)\n",
    "overlap.render(\"卖地数量金额.html\")"
   ]
  },
  {
   "cell_type": "code",
   "execution_count": null,
   "metadata": {},
   "outputs": [],
   "source": [
    "\n",
    "\n"
   ]
  }
 ],
 "metadata": {
  "kernelspec": {
   "display_name": "Python 3",
   "language": "python",
   "name": "python3"
  },
  "language_info": {
   "codemirror_mode": {
    "name": "ipython",
    "version": 3
   },
   "file_extension": ".py",
   "mimetype": "text/x-python",
   "name": "python",
   "nbconvert_exporter": "python",
   "pygments_lexer": "ipython3",
   "version": "3.6.2"
  }
 },
 "nbformat": 4,
 "nbformat_minor": 2
}
