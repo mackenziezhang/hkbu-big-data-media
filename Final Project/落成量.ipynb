{
 "cells": [
  {
   "cell_type": "code",
   "execution_count": 2,
   "metadata": {},
   "outputs": [],
   "source": [
    "from pyecharts import Bar"
   ]
  },
  {
   "cell_type": "code",
   "execution_count": 3,
   "metadata": {},
   "outputs": [],
   "source": [
    "attr = ['<40m²','40-69.9m²','70-99.9m²','100-159.9m²','>160m²']\n",
    "bar = Bar('Completion 2008-2017',title_text_size = 12, width = 1000, height = 600)\n",
    "bar.add('2008', attr, [871,4897,1825,723,460],is_stack=True,is_convert=True,yaxis_label_textsize = 10)\n",
    "bar.add('2009', attr, [373,2998,1369,1530,887],is_stack=True,is_convert=True,yaxis_label_textsize = 10)\n",
    "bar.add('2010', attr, [689,6742,4534,1182,258],is_stack=True,is_convert=True,yaxis_label_textsize = 10)\n",
    "bar.add('2011', attr, [636,4586,3101,919,207],is_stack=True,is_convert=True,yaxis_label_textsize = 10)\n",
    "bar.add('2012', attr, [1511,4496,1720,1827,595],is_stack=True,is_convert=True,yaxis_label_textsize = 10)\n",
    "bar.add('2013', attr, [1423,4688,1207,573,363],is_stack=True,is_convert=True,yaxis_label_textsize = 10)\n",
    "bar.add('2014', attr, [2160,8446,4207,666,240],is_stack=True,is_convert=True,yaxis_label_textsize = 10)\n",
    "bar.add('2015', attr, [2135,5047,2190,1471,453],is_stack=True,is_convert=True,yaxis_label_textsize = 10)\n",
    "bar.add('2016', attr, [3937,7162,1413,1325,758],is_stack=True,is_convert=True,yaxis_label_textsize = 10)\n",
    "bar.add('2017', attr, [6891,7665,1794,1058,383],is_stack=True,is_convert=True,yaxis_label_textsize = 10)\n",
    "bar.render('Completion 2008-2017.html')"
   ]
  },
  {
   "cell_type": "code",
   "execution_count": null,
   "metadata": {},
   "outputs": [],
   "source": []
  }
 ],
 "metadata": {
  "kernelspec": {
   "display_name": "Python 3",
   "language": "python",
   "name": "python3"
  },
  "language_info": {
   "codemirror_mode": {
    "name": "ipython",
    "version": 3
   },
   "file_extension": ".py",
   "mimetype": "text/x-python",
   "name": "python",
   "nbconvert_exporter": "python",
   "pygments_lexer": "ipython3",
   "version": "3.6.2"
  }
 },
 "nbformat": 4,
 "nbformat_minor": 2
}
