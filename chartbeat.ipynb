{
 "cells": [
  {
   "cell_type": "code",
   "execution_count": 1,
   "metadata": {},
   "outputs": [],
   "source": [
    "import requests\n",
    "from bs4 import BeautifulSoup\n",
    "import csv\n",
    "import codecs\n",
    "import pandas as pd\n",
    "from collections import OrderedDict\n",
    "from lxml import etree"
   ]
  },
  {
   "cell_type": "code",
   "execution_count": 6,
   "metadata": {},
   "outputs": [],
   "source": [
    "titles = []\n",
    "authors = []\n",
    "ranks = []\n",
    "urls = []\n",
    "types = []\n",
    "medias = []\n",
    "header = {'User-Agent': 'Mozilla/5.0 (X11; Linux i686)\\\n",
    "               AppleWebKit/537.36 (KHTML, like Gecko) TGUbuntu\\\n",
    "               Chromium/59.0.3071109 Chrome/59.0.3071.109\\\n",
    "               Safari/537.36',\n",
    "               'Accept-Encoding':'gzip, deflate',\n",
    "               'Accept-Language': 'zh-TW,zh;q=0.9,en-US;q=0.8,en;q=0.7',\n",
    "               'Cache-Control': 'max-age=0',\n",
    "               'Connection': 'keep-alive',\n",
    "               'Host': '2017.chartbeat.com',\n",
    "               'Upgrade-Insecure-Requests': '1'\n",
    "               }"
   ]
  },
  {
   "cell_type": "code",
   "execution_count": 7,
   "metadata": {},
   "outputs": [],
   "source": [
    "def get_information(url):\n",
    "    r = requests.get(url, headers = header)\n",
    "    page = etree.HTML(r.text)\n",
    "    print(r)\n",
    "    for i in page.xpath('//h3[@class=\"text--h3_serif--1R-2y typography--header3Serif--3bzKr typography--merriweatherLight--3DSVS typography--merriweather--3kvth typography--header3Metrics--sDqRT typography--optimizeLegibility--3wS7Z ls-text ls-text-h3 story-list--title--1WS74\"]'):\n",
    "        title = i.text.strip()\n",
    "        titles.append(title)\n",
    "    for i in page.xpath('//p[@class=\"text--body_sans--bUeLZ typography--body--10T9D typography--proximaRegular--3eUoX typography--proxima--2v52_ typography--bodyMetrics--C5tiY ls-text ls-text-body story-list--byline--fdgA1\"]'):\n",
    "        author = i.text.strip()\n",
    "        authors.append(author)\n",
    "    for i in page.xpath('//h1[class=\"text--h1_sans--2DvFi typography--header1--1ptrj typography--proximaLight--2v8js typography--proxima--2v52_ typography--header1Metrics--5rohd typography--optimizeLegibility--3wS7Z ls-text ls-text-h1 story-list--rank--CipvZ\"]'):\n",
    "        rank = i.text.strip()\n",
    "        ranks.append(rank)\n",
    "    for i in page.xpath('//h6[@class=\"text--sectionHeading_sans--1GqQg typography--sectionHeading--33biQ typography--proximaSemibold--30mcM typography--proxima--2v52_ typography--sectionHeadingMetrics--3OEcF typography--optimizeLegibility--3wS7Z ls-text ls-text-sectionHeading story-list--publisher--1y2Oo\"]'):\n",
    "        media = i.text.strip()\n",
    "        medias.append(media)\n",
    "    for i in page.xpath('//div[@style=\"overflow: hidden\"]//a/@href'):\n",
    "        urls.append(i)\n",
    "    return titles, authors, ranks, medias, urls"
   ]
  },
  {
   "cell_type": "code",
   "execution_count": 8,
   "metadata": {},
   "outputs": [
    {
     "name": "stdout",
     "output_type": "stream",
     "text": [
      "<Response [200]>\n"
     ]
    },
    {
     "data": {
      "text/plain": [
       "([], [], [], [], [])"
      ]
     },
     "execution_count": 8,
     "metadata": {},
     "output_type": "execute_result"
    }
   ],
   "source": [
    "get_information('http://2017.chartbeat.com')"
   ]
  },
  {
   "cell_type": "code",
   "execution_count": null,
   "metadata": {},
   "outputs": [],
   "source": []
  }
 ],
 "metadata": {
  "kernelspec": {
   "display_name": "Python 3",
   "language": "python",
   "name": "python3"
  },
  "language_info": {
   "codemirror_mode": {
    "name": "ipython",
    "version": 3
   },
   "file_extension": ".py",
   "mimetype": "text/x-python",
   "name": "python",
   "nbconvert_exporter": "python",
   "pygments_lexer": "ipython3",
   "version": "3.6.2"
  }
 },
 "nbformat": 4,
 "nbformat_minor": 2
}
