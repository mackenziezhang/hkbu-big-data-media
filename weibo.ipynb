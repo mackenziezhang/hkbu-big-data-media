{
 "cells": [
  {
   "cell_type": "code",
   "execution_count": 4,
   "metadata": {},
   "outputs": [],
   "source": [
    "from bs4 import BeautifulSoup\n",
    "import requests\n",
    "from collections import OrderedDict\n",
    "from lxml import etree"
   ]
  },
  {
   "cell_type": "code",
   "execution_count": 17,
   "metadata": {},
   "outputs": [],
   "source": [
    "urls = ['https://s.weibo.com/weibo/%25E7%25BA%25A2%25E6%25B5%25B7%25E8%25A1%258C%25E5%258A%25A8%2520%25E5%2588%2586%25E7%25BA%25A7&b=1&page={}'.format(str(i))for i in range(1,17)]"
   ]
  },
  {
   "cell_type": "code",
   "execution_count": 52,
   "metadata": {},
   "outputs": [],
   "source": [
    "cookie ={'cookies': 'SINAGLOBAL=7338339733210.954.1518159895892; _s_tentry=games.ifeng.com; Apache=3066899777457.43.1519740376678; ULV=1519740377340:2:2:1:3066899777457.43.1519740376678:1518159895912; SWBSSL=usrmdinst_12; SWB=usrmdinst_16; UOR=www.zaobao.com,widget.weibo.com,www.google.com.hk; __gads=ID=74009b8f57927021:T=1520924921:S=ALNI_MYz-jMJMr9C6emKR5mzTWAHruaTvg; login_sid_t=9e173a06e06d5721347ac377c3564e1a; cross_origin_proto=SSL; SUBP=0033WrSXqPxfM725Ws9jqgMF55529P9D9WhVAWVm-VEvW27_j9fN6krm5JpX5K2hUgL.FoefeoepeK-Ne0z2dJLoI0YLxKBLBonL1-2LxKBLB.BL1K.LxKBLB.2LB.2LxK-LBKeLB-zLxKnLBK.LBo.LxKqL1KMLBK5LxK.LBKzL1-et; ALF=1552462984; SSOLoginState=1520926985; SCF=AuihjBGVYcY2rISyty4Ks437ksq43NVOrEbyWvWw4hFfCCThs8dcQ9h3JT5dG3dV_838jHK174Rq4UX8p0rhH-I.; SUB=_2A253o_FaDeRhGeVL6VEQ8SvLyD6IHXVU2WWSrDV8PUNbmtBeLWykkW9NTF7ygEdJL5Z-8ApxziYYM-82wyH8Ousc; SUHB=0h1JSkhvCypIKB; un=410761906@qq.com; WBStorage=c5ff51335af29d81|undefined; ULOGIN_IMG=15209331715568'}\n",
    "header = {'User-Agent': 'Mozilla/5.0 (X11; Linux i686)\\\n",
    "               AppleWebKit/537.36 (KHTML, like Gecko) TGUbuntu\\\n",
    "               Chromium/59.0.3071109 Chrome/59.0.3071.109\\\n",
    "               Safari/537.36',\n",
    "               'referer': 'https://s.weibo.com/weibo/%25E7%25BA%25A2%25E6%25B5%25B7%25E8%25A1%258C%25E5%258A%25A8%2520%25E5%2588%2586%25E7%25BA%25A7&b=1&page=1',\n",
    "               'Accept': 'text/html,application/xhtml+xml,application/xml;q=0.9,image/webp,image/apng,*/*;q=0.8',\n",
    "               'Accept-Encoding':'gzip, deflate, br',\n",
    "               'Accept-Language': 'zh-TW,zh;q=0.9,en-US;q=0.8,en;q=0.7',\n",
    "               'Cache-Control': 'max-age=0',\n",
    "               'Connection': 'keep-alive',\n",
    "               'Host': 's.weibo.com',\n",
    "               'Upgrade-Insecure-Requests': '1'\n",
    "               }"
   ]
  },
  {
   "cell_type": "code",
   "execution_count": 53,
   "metadata": {},
   "outputs": [
    {
     "name": "stdout",
     "output_type": "stream",
     "text": [
      "登录成功\n"
     ]
    }
   ],
   "source": [
    "import requests\n",
    "import json\n",
    "import base64\n",
    "\n",
    "def login(username, password):\n",
    "    username = base64.b64encode(username.encode('utf-8')).decode('utf-8')\n",
    "    postData = {\n",
    "        \"entry\": \"sso\",\n",
    "        \"gateway\": \"1\",\n",
    "        \"from\": \"null\",\n",
    "        \"savestate\": \"30\",\n",
    "        \"useticket\": \"0\",\n",
    "        \"pagerefer\": \"\",\n",
    "        \"vsnf\": \"1\",\n",
    "        \"su\": username,\n",
    "        \"service\": \"sso\",\n",
    "        \"sp\": password,\n",
    "        \"sr\": \"1440*900\",\n",
    "        \"encoding\": \"UTF-8\",\n",
    "        \"cdult\": \"3\",\n",
    "        \"domain\": \"sina.com.cn\",\n",
    "        \"prelt\": \"0\",\n",
    "        \"returntype\": \"TEXT\",\n",
    "    }\n",
    "    loginURL = r'https://login.sina.com.cn/sso/login.php?client=ssologin.js(v1.4.15)'\n",
    "    session = requests.Session()\n",
    "    res = session.post(loginURL, data = postData)\n",
    "    jsonStr = res.content.decode('gbk')\n",
    "    info = json.loads(jsonStr)\n",
    "    if info[\"retcode\"] == \"0\":\n",
    "        print(\"登录成功\")\n",
    "        # 把cookies添加到headers中，必须写这一步，否则后面调用API失败\n",
    "        cookies = session.cookies.get_dict()\n",
    "        cookies = [key + \"=\" + value for key, value in cookies.items()]\n",
    "        cookies = \"; \".join(cookies)\n",
    "        session.headers[\"cookie\"] = cookies\n",
    "    else:\n",
    "        print(\"登录失败，原因： %s\" % info[\"reason\"])\n",
    "    return session\n",
    "\n",
    "if __name__ == '__main__':\n",
    "    session = login('410761906@qq.com', 'SHBLtzwx160523')"
   ]
  },
  {
   "cell_type": "code",
   "execution_count": 54,
   "metadata": {},
   "outputs": [],
   "source": [
    "contents = []\n",
    "phones = []"
   ]
  },
  {
   "cell_type": "code",
   "execution_count": 61,
   "metadata": {},
   "outputs": [],
   "source": [
    "def get_information(urls):\n",
    "    for url in urls:\n",
    "        r = requests.get(url, headers=header, cookies=cookie)\n",
    "        page = etree.HTML(r.text)\n",
    "        print(r)\n",
    "        for i in page.xpath('//div[@class=\"content clearfix\"]//p[@class=\"comment_txt\"]'):\n",
    "            #content = i.text.strip()\n",
    "            #contents.append(content)\n",
    "            print(i)\n",
    "        for i in page.xpath('//div[@class=\"feed_from W_textb\"]//a//@rel'):\n",
    "            #phone = i.text.strip()\n",
    "            #phones.append(phone)\n",
    "            print(i)\n",
    "    return "
   ]
  },
  {
   "cell_type": "code",
   "execution_count": 62,
   "metadata": {},
   "outputs": [
    {
     "name": "stdout",
     "output_type": "stream",
     "text": [
      "<Response [200]>\n",
      "<Response [200]>\n",
      "<Response [200]>\n",
      "<Response [200]>\n",
      "<Response [200]>\n",
      "<Response [200]>\n",
      "<Response [200]>\n",
      "<Response [200]>\n",
      "<Response [200]>\n",
      "<Response [200]>\n",
      "<Response [200]>\n",
      "<Response [200]>\n",
      "<Response [200]>\n",
      "<Response [200]>\n",
      "<Response [200]>\n",
      "<Response [200]>\n"
     ]
    }
   ],
   "source": [
    "get_information(urls)"
   ]
  },
  {
   "cell_type": "code",
   "execution_count": 57,
   "metadata": {},
   "outputs": [],
   "source": [
    "def get_information(urls):\n",
    "    for url in urls:\n",
    "        r = requests.get(url, headers=header, cookies=cookie)\n",
    "        page = BeautifulSoup(r.text, \"lxml\")\n",
    "        print(r)\n",
    "        for i in page.find_all('p', class_=\"comment_txt\"):\n",
    "            content = i.text.strip()\n",
    "            contents.append(content)\n",
    "            print(content)\n",
    "        for i in page.find_all('div',class_=\"feed_from W_textb\"):\n",
    "            phone = i.text.strip()\n",
    "            phones.append(phone)\n",
    "            print(phone)\n",
    "    return contents, phones"
   ]
  },
  {
   "cell_type": "code",
   "execution_count": 58,
   "metadata": {},
   "outputs": [
    {
     "name": "stdout",
     "output_type": "stream",
     "text": [
      "<Response [200]>\n",
      "<Response [200]>\n",
      "<Response [200]>\n",
      "<Response [200]>\n",
      "<Response [200]>\n",
      "<Response [200]>\n",
      "<Response [200]>\n",
      "<Response [200]>\n",
      "<Response [200]>\n",
      "<Response [200]>\n",
      "<Response [200]>\n",
      "<Response [200]>\n",
      "<Response [200]>\n",
      "<Response [200]>\n",
      "<Response [200]>\n",
      "<Response [200]>\n"
     ]
    },
    {
     "data": {
      "text/plain": [
       "([], [])"
      ]
     },
     "execution_count": 58,
     "metadata": {},
     "output_type": "execute_result"
    }
   ],
   "source": [
    "get_information(urls)"
   ]
  },
  {
   "cell_type": "code",
   "execution_count": null,
   "metadata": {},
   "outputs": [],
   "source": []
  }
 ],
 "metadata": {
  "kernelspec": {
   "display_name": "Python 3",
   "language": "python",
   "name": "python3"
  },
  "language_info": {
   "codemirror_mode": {
    "name": "ipython",
    "version": 3
   },
   "file_extension": ".py",
   "mimetype": "text/x-python",
   "name": "python",
   "nbconvert_exporter": "python",
   "pygments_lexer": "ipython3",
   "version": "3.6.2"
  }
 },
 "nbformat": 4,
 "nbformat_minor": 2
}
